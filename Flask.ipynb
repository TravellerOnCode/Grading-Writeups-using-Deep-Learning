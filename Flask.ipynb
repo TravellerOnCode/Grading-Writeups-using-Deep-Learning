{
  "nbformat": 4,
  "nbformat_minor": 0,
  "metadata": {
    "colab": {
      "name": "Flask.ipynb",
      "provenance": [],
      "collapsed_sections": []
    },
    "kernelspec": {
      "name": "python3",
      "display_name": "Python 3"
    }
  },
  "cells": [
    {
      "cell_type": "code",
      "metadata": {
        "id": "Jl1cPCYLjnIM",
        "colab_type": "code",
        "colab": {}
      },
      "source": [
        ""
      ],
      "execution_count": 0,
      "outputs": []
    },
    {
      "cell_type": "code",
      "metadata": {
        "id": "xVeT_jd5MbsU",
        "colab_type": "code",
        "outputId": "eff352f8-19a7-49ba-876d-830faabffe4a",
        "colab": {
          "base_uri": "https://localhost:8080/",
          "height": 108
        }
      },
      "source": [
        "!pip install -q gwpy"
      ],
      "execution_count": 0,
      "outputs": [
        {
          "output_type": "stream",
          "text": [
            "\u001b[?25l\r\u001b[K     |▎                               | 10kB 23.4MB/s eta 0:00:01\r\u001b[K     |▌                               | 20kB 1.7MB/s eta 0:00:01\r\u001b[K     |▊                               | 30kB 2.2MB/s eta 0:00:01\r\u001b[K     |█                               | 40kB 1.6MB/s eta 0:00:01\r\u001b[K     |█▏                              | 51kB 1.8MB/s eta 0:00:01\r\u001b[K     |█▌                              | 61kB 2.1MB/s eta 0:00:01\r\u001b[K     |█▊                              | 71kB 2.3MB/s eta 0:00:01\r\u001b[K     |██                              | 81kB 2.4MB/s eta 0:00:01\r\u001b[K     |██▏                             | 92kB 2.7MB/s eta 0:00:01\r\u001b[K     |██▍                             | 102kB 2.6MB/s eta 0:00:01\r\u001b[K     |██▋                             | 112kB 2.6MB/s eta 0:00:01\r\u001b[K     |███                             | 122kB 2.6MB/s eta 0:00:01\r\u001b[K     |███▏                            | 133kB 2.6MB/s eta 0:00:01\r\u001b[K     |███▍                            | 143kB 2.6MB/s eta 0:00:01\r\u001b[K     |███▋                            | 153kB 2.6MB/s eta 0:00:01\r\u001b[K     |███▉                            | 163kB 2.6MB/s eta 0:00:01\r\u001b[K     |████                            | 174kB 2.6MB/s eta 0:00:01\r\u001b[K     |████▍                           | 184kB 2.6MB/s eta 0:00:01\r\u001b[K     |████▋                           | 194kB 2.6MB/s eta 0:00:01\r\u001b[K     |████▉                           | 204kB 2.6MB/s eta 0:00:01\r\u001b[K     |█████                           | 215kB 2.6MB/s eta 0:00:01\r\u001b[K     |█████▎                          | 225kB 2.6MB/s eta 0:00:01\r\u001b[K     |█████▋                          | 235kB 2.6MB/s eta 0:00:01\r\u001b[K     |█████▉                          | 245kB 2.6MB/s eta 0:00:01\r\u001b[K     |██████                          | 256kB 2.6MB/s eta 0:00:01\r\u001b[K     |██████▎                         | 266kB 2.6MB/s eta 0:00:01\r\u001b[K     |██████▌                         | 276kB 2.6MB/s eta 0:00:01\r\u001b[K     |██████▊                         | 286kB 2.6MB/s eta 0:00:01\r\u001b[K     |███████                         | 296kB 2.6MB/s eta 0:00:01\r\u001b[K     |███████▎                        | 307kB 2.6MB/s eta 0:00:01\r\u001b[K     |███████▌                        | 317kB 2.6MB/s eta 0:00:01\r\u001b[K     |███████▊                        | 327kB 2.6MB/s eta 0:00:01\r\u001b[K     |████████                        | 337kB 2.6MB/s eta 0:00:01\r\u001b[K     |████████▏                       | 348kB 2.6MB/s eta 0:00:01\r\u001b[K     |████████▌                       | 358kB 2.6MB/s eta 0:00:01\r\u001b[K     |████████▊                       | 368kB 2.6MB/s eta 0:00:01\r\u001b[K     |█████████                       | 378kB 2.6MB/s eta 0:00:01\r\u001b[K     |█████████▏                      | 389kB 2.6MB/s eta 0:00:01\r\u001b[K     |█████████▍                      | 399kB 2.6MB/s eta 0:00:01\r\u001b[K     |█████████▊                      | 409kB 2.6MB/s eta 0:00:01\r\u001b[K     |██████████                      | 419kB 2.6MB/s eta 0:00:01\r\u001b[K     |██████████▏                     | 430kB 2.6MB/s eta 0:00:01\r\u001b[K     |██████████▍                     | 440kB 2.6MB/s eta 0:00:01\r\u001b[K     |██████████▋                     | 450kB 2.6MB/s eta 0:00:01\r\u001b[K     |██████████▉                     | 460kB 2.6MB/s eta 0:00:01\r\u001b[K     |███████████▏                    | 471kB 2.6MB/s eta 0:00:01\r\u001b[K     |███████████▍                    | 481kB 2.6MB/s eta 0:00:01\r\u001b[K     |███████████▋                    | 491kB 2.6MB/s eta 0:00:01\r\u001b[K     |███████████▉                    | 501kB 2.6MB/s eta 0:00:01\r\u001b[K     |████████████                    | 512kB 2.6MB/s eta 0:00:01\r\u001b[K     |████████████▎                   | 522kB 2.6MB/s eta 0:00:01\r\u001b[K     |████████████▋                   | 532kB 2.6MB/s eta 0:00:01\r\u001b[K     |████████████▉                   | 542kB 2.6MB/s eta 0:00:01\r\u001b[K     |█████████████                   | 552kB 2.6MB/s eta 0:00:01\r\u001b[K     |█████████████▎                  | 563kB 2.6MB/s eta 0:00:01\r\u001b[K     |█████████████▌                  | 573kB 2.6MB/s eta 0:00:01\r\u001b[K     |█████████████▉                  | 583kB 2.6MB/s eta 0:00:01\r\u001b[K     |██████████████                  | 593kB 2.6MB/s eta 0:00:01\r\u001b[K     |██████████████▎                 | 604kB 2.6MB/s eta 0:00:01\r\u001b[K     |██████████████▌                 | 614kB 2.6MB/s eta 0:00:01\r\u001b[K     |██████████████▊                 | 624kB 2.6MB/s eta 0:00:01\r\u001b[K     |███████████████                 | 634kB 2.6MB/s eta 0:00:01\r\u001b[K     |███████████████▎                | 645kB 2.6MB/s eta 0:00:01\r\u001b[K     |███████████████▌                | 655kB 2.6MB/s eta 0:00:01\r\u001b[K     |███████████████▊                | 665kB 2.6MB/s eta 0:00:01\r\u001b[K     |████████████████                | 675kB 2.6MB/s eta 0:00:01\r\u001b[K     |████████████████▏               | 686kB 2.6MB/s eta 0:00:01\r\u001b[K     |████████████████▍               | 696kB 2.6MB/s eta 0:00:01\r\u001b[K     |████████████████▊               | 706kB 2.6MB/s eta 0:00:01\r\u001b[K     |█████████████████               | 716kB 2.6MB/s eta 0:00:01\r\u001b[K     |█████████████████▏              | 727kB 2.6MB/s eta 0:00:01\r\u001b[K     |█████████████████▍              | 737kB 2.6MB/s eta 0:00:01\r\u001b[K     |█████████████████▋              | 747kB 2.6MB/s eta 0:00:01\r\u001b[K     |██████████████████              | 757kB 2.6MB/s eta 0:00:01\r\u001b[K     |██████████████████▏             | 768kB 2.6MB/s eta 0:00:01\r\u001b[K     |██████████████████▍             | 778kB 2.6MB/s eta 0:00:01\r\u001b[K     |██████████████████▋             | 788kB 2.6MB/s eta 0:00:01\r\u001b[K     |██████████████████▉             | 798kB 2.6MB/s eta 0:00:01\r\u001b[K     |███████████████████             | 808kB 2.6MB/s eta 0:00:01\r\u001b[K     |███████████████████▍            | 819kB 2.6MB/s eta 0:00:01\r\u001b[K     |███████████████████▋            | 829kB 2.6MB/s eta 0:00:01\r\u001b[K     |███████████████████▉            | 839kB 2.6MB/s eta 0:00:01\r\u001b[K     |████████████████████            | 849kB 2.6MB/s eta 0:00:01\r\u001b[K     |████████████████████▎           | 860kB 2.6MB/s eta 0:00:01\r\u001b[K     |████████████████████▌           | 870kB 2.6MB/s eta 0:00:01\r\u001b[K     |████████████████████▉           | 880kB 2.6MB/s eta 0:00:01\r\u001b[K     |█████████████████████           | 890kB 2.6MB/s eta 0:00:01\r\u001b[K     |█████████████████████▎          | 901kB 2.6MB/s eta 0:00:01\r\u001b[K     |█████████████████████▌          | 911kB 2.6MB/s eta 0:00:01\r\u001b[K     |█████████████████████▊          | 921kB 2.6MB/s eta 0:00:01\r\u001b[K     |██████████████████████          | 931kB 2.6MB/s eta 0:00:01\r\u001b[K     |██████████████████████▎         | 942kB 2.6MB/s eta 0:00:01\r\u001b[K     |██████████████████████▌         | 952kB 2.6MB/s eta 0:00:01\r\u001b[K     |██████████████████████▊         | 962kB 2.6MB/s eta 0:00:01\r\u001b[K     |███████████████████████         | 972kB 2.6MB/s eta 0:00:01\r\u001b[K     |███████████████████████▏        | 983kB 2.6MB/s eta 0:00:01\r\u001b[K     |███████████████████████▌        | 993kB 2.6MB/s eta 0:00:01\r\u001b[K     |███████████████████████▊        | 1.0MB 2.6MB/s eta 0:00:01\r\u001b[K     |████████████████████████        | 1.0MB 2.6MB/s eta 0:00:01\r\u001b[K     |████████████████████████▏       | 1.0MB 2.6MB/s eta 0:00:01\r\u001b[K     |████████████████████████▍       | 1.0MB 2.6MB/s eta 0:00:01\r\u001b[K     |████████████████████████▋       | 1.0MB 2.6MB/s eta 0:00:01\r\u001b[K     |█████████████████████████       | 1.1MB 2.6MB/s eta 0:00:01\r\u001b[K     |█████████████████████████▏      | 1.1MB 2.6MB/s eta 0:00:01\r\u001b[K     |█████████████████████████▍      | 1.1MB 2.6MB/s eta 0:00:01\r\u001b[K     |█████████████████████████▋      | 1.1MB 2.6MB/s eta 0:00:01\r\u001b[K     |█████████████████████████▉      | 1.1MB 2.6MB/s eta 0:00:01\r\u001b[K     |██████████████████████████      | 1.1MB 2.6MB/s eta 0:00:01\r\u001b[K     |██████████████████████████▍     | 1.1MB 2.6MB/s eta 0:00:01\r\u001b[K     |██████████████████████████▋     | 1.1MB 2.6MB/s eta 0:00:01\r\u001b[K     |██████████████████████████▉     | 1.1MB 2.6MB/s eta 0:00:01\r\u001b[K     |███████████████████████████     | 1.1MB 2.6MB/s eta 0:00:01\r\u001b[K     |███████████████████████████▎    | 1.2MB 2.6MB/s eta 0:00:01\r\u001b[K     |███████████████████████████▋    | 1.2MB 2.6MB/s eta 0:00:01\r\u001b[K     |███████████████████████████▉    | 1.2MB 2.6MB/s eta 0:00:01\r\u001b[K     |████████████████████████████    | 1.2MB 2.6MB/s eta 0:00:01\r\u001b[K     |████████████████████████████▎   | 1.2MB 2.6MB/s eta 0:00:01\r\u001b[K     |████████████████████████████▌   | 1.2MB 2.6MB/s eta 0:00:01\r\u001b[K     |████████████████████████████▊   | 1.2MB 2.6MB/s eta 0:00:01\r\u001b[K     |█████████████████████████████   | 1.2MB 2.6MB/s eta 0:00:01\r\u001b[K     |█████████████████████████████▎  | 1.2MB 2.6MB/s eta 0:00:01\r\u001b[K     |█████████████████████████████▌  | 1.2MB 2.6MB/s eta 0:00:01\r\u001b[K     |█████████████████████████████▊  | 1.3MB 2.6MB/s eta 0:00:01\r\u001b[K     |██████████████████████████████  | 1.3MB 2.6MB/s eta 0:00:01\r\u001b[K     |██████████████████████████████▏ | 1.3MB 2.6MB/s eta 0:00:01\r\u001b[K     |██████████████████████████████▌ | 1.3MB 2.6MB/s eta 0:00:01\r\u001b[K     |██████████████████████████████▊ | 1.3MB 2.6MB/s eta 0:00:01\r\u001b[K     |███████████████████████████████ | 1.3MB 2.6MB/s eta 0:00:01\r\u001b[K     |███████████████████████████████▏| 1.3MB 2.6MB/s eta 0:00:01\r\u001b[K     |███████████████████████████████▍| 1.3MB 2.6MB/s eta 0:00:01\r\u001b[K     |███████████████████████████████▊| 1.3MB 2.6MB/s eta 0:00:01\r\u001b[K     |████████████████████████████████| 1.4MB 2.6MB/s eta 0:00:01\r\u001b[K     |████████████████████████████████| 1.4MB 2.6MB/s \n",
            "\u001b[?25h\u001b[?25l\r\u001b[K     |██████▊                         | 10kB 27.0MB/s eta 0:00:01\r\u001b[K     |█████████████▍                  | 20kB 34.6MB/s eta 0:00:01\r\u001b[K     |████████████████████▏           | 30kB 42.6MB/s eta 0:00:01\r\u001b[K     |██████████████████████████▉     | 40kB 38.0MB/s eta 0:00:01\r\u001b[K     |████████████████████████████████| 51kB 6.6MB/s \n",
            "\u001b[K     |████████████████████████████████| 61kB 7.4MB/s \n",
            "\u001b[K     |████████████████████████████████| 2.3MB 71kB/s \n",
            "\u001b[?25h  Building wheel for ligo-segments (setup.py) ... \u001b[?25l\u001b[?25hdone\n"
          ],
          "name": "stdout"
        }
      ]
    },
    {
      "cell_type": "code",
      "metadata": {
        "id": "cwws_OK_GA2Y",
        "colab_type": "code",
        "colab": {}
      },
      "source": [
        "#Required PIPs\n",
        "%%capture\n",
        "!pip install --upgrade google-api-python-client\n",
        "!pip install flask-ngrok\n",
        "!pip install pyspellchecker\n",
        "!gsutil cp gs://cloud-training-demos/courses/machine_learning/deepdive/09_sequence/text_classification/glove.6B.200d.txt glove.6B.200d.txt"
      ],
      "execution_count": 0,
      "outputs": []
    },
    {
      "cell_type": "code",
      "metadata": {
        "id": "oE3rCWGsGiV4",
        "colab_type": "code",
        "outputId": "27590988-4f20-4419-fdaf-730f1af8c4bb",
        "colab": {
          "base_uri": "https://localhost:8080/",
          "height": 92
        }
      },
      "source": [
        "!gsutil cp gs://cloud-training-demos/courses/machine_learning/deepdive/09_sequence/text_classification/glove.6B.200d.txt glove.6B.200d.txt"
      ],
      "execution_count": 0,
      "outputs": [
        {
          "output_type": "stream",
          "text": [
            "Copying gs://cloud-training-demos/courses/machine_learning/deepdive/09_sequence/text_classification/glove.6B.200d.txt...\n",
            "| [1 files][661.3 MiB/661.3 MiB]                                                \n",
            "Operation completed over 1 objects/661.3 MiB.                                    \n"
          ],
          "name": "stdout"
        }
      ]
    },
    {
      "cell_type": "code",
      "metadata": {
        "id": "PEsTWJtzzWEi",
        "colab_type": "code",
        "outputId": "72fac6fd-1310-49ba-d83e-77fe2ac2636f",
        "colab": {
          "base_uri": "https://localhost:8080/",
          "height": 35
        }
      },
      "source": [
        "import string\n",
        "import numpy as np\n",
        "%tensorflow_version 1.x\n",
        "import tensorflow as tf\n",
        "print(tf.__version__)"
      ],
      "execution_count": 0,
      "outputs": [
        {
          "output_type": "stream",
          "text": [
            "1.15.0\n"
          ],
          "name": "stdout"
        }
      ]
    },
    {
      "cell_type": "code",
      "metadata": {
        "id": "nNJY1hidfweB",
        "colab_type": "code",
        "colab": {}
      },
      "source": [
        "%%capture\n",
        "from flask_ngrok import run_with_ngrok\n",
        "from flask import Flask, jsonify, request\n",
        "import pickle\n",
        "from keras.models import load_model\n",
        "\n",
        "import nltk\n",
        "from nltk.corpus import stopwords\n",
        "from nltk.tokenize import word_tokenize\n",
        "\n",
        "from keras.layers import Embedding, LSTM, Dense, Dropout, Lambda, Flatten\n",
        "from keras.models import Sequential, load_model, model_from_config\n",
        "\n",
        "from keras import models,layers\n",
        "\n",
        "from spellchecker import SpellChecker\n",
        "\n",
        "nltk.download('stopwords')\n",
        "nltk.download('punkt')"
      ],
      "execution_count": 0,
      "outputs": []
    },
    {
      "cell_type": "code",
      "metadata": {
        "id": "pPIaGLR8keX0",
        "colab_type": "code",
        "colab": {}
      },
      "source": [
        "from gensim.scripts.glove2word2vec import glove2word2vec\n",
        "from gensim.models import KeyedVectors"
      ],
      "execution_count": 0,
      "outputs": []
    },
    {
      "cell_type": "code",
      "metadata": {
        "id": "4tPkRtZ0hk2c",
        "colab_type": "code",
        "colab": {}
      },
      "source": [
        "%%capture\n",
        "glove_input_file = 'glove.6B.200d.txt'\n",
        "word2vec_output_file = 'glove.6B.200d.txt.word2vec'\n",
        "glove2word2vec(glove_input_file, word2vec_output_file)\n",
        "# load the Stanford GloVe model\n",
        "filename = 'glove.6B.200d.txt.word2vec'\n",
        "embedding_model = KeyedVectors.load_word2vec_format(filename, binary=False)\n",
        "print('Embedding Model Trained')"
      ],
      "execution_count": 0,
      "outputs": []
    },
    {
      "cell_type": "markdown",
      "metadata": {
        "id": "MTuBz-Wsro4u",
        "colab_type": "text"
      },
      "source": [
        "#Input using Image OCR using Vision API"
      ]
    },
    {
      "cell_type": "code",
      "metadata": {
        "colab_type": "code",
        "outputId": "d7e67853-2ebf-435d-b70e-af727767b0d1",
        "id": "A6ZGwUMArnHG",
        "colab": {
          "base_uri": "https://localhost:8080/",
          "height": 35
        }
      },
      "source": [
        "import getpass\n",
        "APIKEY = getpass.getpass()\n",
        "#APIKEY = '<YOUR_VISION_API_KEY'"
      ],
      "execution_count": 0,
      "outputs": [
        {
          "output_type": "stream",
          "text": [
            "··········\n"
          ],
          "name": "stdout"
        }
      ]
    },
    {
      "cell_type": "code",
      "metadata": {
        "colab_type": "code",
        "id": "uvyWsuBGrnG3",
        "colab": {}
      },
      "source": [
        "from googleapiclient.discovery import build"
      ],
      "execution_count": 0,
      "outputs": []
    },
    {
      "cell_type": "code",
      "metadata": {
        "colab_type": "code",
        "id": "xqeaf7vZrnGZ",
        "colab": {}
      },
      "source": [
        "#OCR using Vision API\n",
        "def scan_text(IMAGE_URL):\n",
        "  vservice = build('vision', 'v1', developerKey=APIKEY)\n",
        "  request = vservice.images().annotate(body={\n",
        "          'requests': [{\n",
        "                  'image': {\n",
        "                      'source': {\n",
        "                          'imageUri': IMAGE_URL\n",
        "                      }\n",
        "                  },\n",
        "                  'features': [{\n",
        "                      'type': 'TEXT_DETECTION',\n",
        "                      'maxResults': 5,\n",
        "                  }]\n",
        "             }],\n",
        "         })\n",
        "  responses = request.execute(num_retries=5)\n",
        "  ocr_text = responses['responses'][0]['textAnnotations'][0]['description']\n",
        "  #print(ocr_text)\n",
        "  return ocr_text"
      ],
      "execution_count": 0,
      "outputs": []
    },
    {
      "cell_type": "markdown",
      "metadata": {
        "id": "DC2Gzn9XrvgN",
        "colab_type": "text"
      },
      "source": [
        "#Pre-processing Data for the Model"
      ]
    },
    {
      "cell_type": "code",
      "metadata": {
        "id": "406_q_wAy34q",
        "colab_type": "code",
        "colab": {}
      },
      "source": [
        "#functions to pre-process data\n",
        "def clean_data(text):\n",
        "\n",
        "    essay_data = []\n",
        "    # split into words\n",
        "    tokens = word_tokenize(text)\n",
        "    # convert to lower case\n",
        "    tokens = [w.lower() for w in tokens]\n",
        "    # remove punctuation from each word\n",
        "    table = str.maketrans('', '', string.punctuation)\n",
        "    stripped = [w.translate(table) for w in tokens]\n",
        "    # remove remaining tokens that are not alphabetic\n",
        "    words = [word for word in stripped if word.isalpha()]\n",
        "    # filter out stop words\n",
        "    stop_words = set(stopwords.words('english'))\n",
        "    words = [w for w in words if not w in stop_words]\n",
        "    str1 = \"\"\n",
        "    for i in words:\n",
        "      str1 = str1 + i + \" \"\n",
        "    return str1\n",
        "\n",
        "def FeatureVec(words, model, num_features):\n",
        "    featureVec = np.zeros((num_features,),dtype=\"float32\")\n",
        "    num_words = 0.\n",
        "    index2word_set = set(model.wv.index2word)\n",
        "    for word in words:\n",
        "        if word in index2word_set:\n",
        "            num_words += 1\n",
        "            featureVec = np.add(featureVec,model[word])        \n",
        "    featureVec = np.divide(featureVec,num_words)\n",
        "    return featureVec\n",
        "\n",
        "def FullFeatureVector(essays, model, num_features):\n",
        "    counter = 0\n",
        "    essayFeatureVecs = np.zeros((1,num_features),dtype=\"float32\")\n",
        "    for essay in essays:\n",
        "      essayFeatureVecs[counter] = FeatureVec(essay, model, 200)\n",
        "      counter = counter + 1\n",
        "    return essayFeatureVecs\n",
        "\n",
        "def transform(data):\n",
        "  essays = []\n",
        "  for d in data:\n",
        "    essays.append(d.split())\n",
        "  return essays\n",
        "\n",
        "def prepare_data(data):\n",
        "    #clean_data = transform(data)\n",
        "    DataVecs = FullFeatureVector(data, embedding_model, 200 )    \n",
        "    DataVecs = np.array(DataVecs)\n",
        "    DataVecs = np.reshape(DataVecs, (DataVecs.shape[0], 1, DataVecs.shape[1]))\n",
        "    return (DataVecs)"
      ],
      "execution_count": 0,
      "outputs": []
    },
    {
      "cell_type": "code",
      "metadata": {
        "id": "WbHiQNov-z9e",
        "colab_type": "code",
        "colab": {}
      },
      "source": [
        "from IPython.display import Image\n",
        "Image('morphing.jpeg')\n"
      ],
      "execution_count": 0,
      "outputs": []
    },
    {
      "cell_type": "code",
      "metadata": {
        "id": "shvzSamwGs0a",
        "colab_type": "code",
        "colab": {}
      },
      "source": [
        "#Animation\n",
        "#url = 'https://firebasestorage.googleapis.com/v0/b/mlkit-92eb9.appspot.com/o/Images%2FWhatsApp%20Image%202020-02-19%20at%2011.44.51%20AM%20(1).jpeg?alt=media&token=f3f5c642-ba50-4ee7-9690-1a3fbcd2dec8'\n",
        "url = 'https://firebasestorage.googleapis.com/v0/b/mlkit-92eb9.appspot.com/o/Images%2FWhatsApp%20Image%202020-02-19%20at%2011.44.51%20AM.jpeg?alt=media&token=c0e14168-3822-420f-8ba3-38db6abe6878'"
      ],
      "execution_count": 0,
      "outputs": []
    },
    {
      "cell_type": "code",
      "metadata": {
        "id": "uQJZIJfnj73k",
        "colab_type": "code",
        "colab": {}
      },
      "source": [
        "ocr_text = scan_text(url) #read the text from image\n",
        "print(ocr_text)"
      ],
      "execution_count": 0,
      "outputs": []
    },
    {
      "cell_type": "code",
      "metadata": {
        "id": "_I8B2-g4dUAV",
        "colab_type": "code",
        "colab": {}
      },
      "source": [
        "ocr_text = \"Flutter provides http package to consume HTTP resources. http is a Future-based library and uses await and async features. It provides many high level methods and simplifies the development of REST based mobile applications.\""
      ],
      "execution_count": 0,
      "outputs": []
    },
    {
      "cell_type": "markdown",
      "metadata": {
        "id": "wvFCaPhzr3Am",
        "colab_type": "text"
      },
      "source": [
        "#Running the Flask Server"
      ]
    },
    {
      "cell_type": "code",
      "metadata": {
        "id": "0HVuDu9DgnSa",
        "colab_type": "code",
        "outputId": "66a04f0f-8eba-4560-bb44-f4ac285f094a",
        "colab": {
          "base_uri": "https://localhost:8080/",
          "height": 419
        }
      },
      "source": [
        "# app\n",
        "app = Flask(__name__)\n",
        "\n",
        "# we need to redefine our metric function in order \n",
        "# to use it when loading the model \n",
        "\n",
        "global graph\n",
        "graph = tf.get_default_graph()\n",
        "model = load_model('Model_New_.h5')\n",
        "run_with_ngrok(app)   #starts ngrok when the app is run\n",
        "\n",
        "# routes\n",
        "@app.route(\"/\",methods=['GET','POST'])\n",
        "def predict():\n",
        "    # get data\n",
        "    data = request.get_json(force=True)\n",
        "    text = clean_data(data['title'])\n",
        "    spell = SpellChecker()\n",
        "    words=text.split(' ')\n",
        "    # find those words that may be misspelled\n",
        "    misspelled = spell.unknown(words)\n",
        "    misspelled = list(misspelled)\n",
        "    #print(misspelled)\n",
        "    data_ = []\n",
        "    data_.append(text)\n",
        "    data_form1 = transform(data_)\n",
        "    data_vec = prepare_data(data_form1)\n",
        "\n",
        "    data_vec_ = data_vec\n",
        "    print(data)\n",
        "    def your_handler():\n",
        "        global graph\n",
        "        with graph.as_default():\n",
        "            result = model.predict(data_vec_)\n",
        "        return result\n",
        "\n",
        "\n",
        "    # predictions\n",
        "    results = your_handler()\n",
        "    # send back to browser\n",
        "    output = {'results': float(results[0])}\n",
        "    output['wwords']=misspelled\n",
        "    return jsonify(results=output)\n",
        "    \n",
        "\n",
        "if __name__ == '__main__':\n",
        "    app.run()"
      ],
      "execution_count": 0,
      "outputs": [
        {
          "output_type": "stream",
          "text": [
            " * Serving Flask app \"__main__\" (lazy loading)\n",
            " * Environment: production\n",
            "\u001b[31m   WARNING: This is a development server. Do not use it in a production deployment.\u001b[0m\n",
            "\u001b[2m   Use a production WSGI server instead.\u001b[0m\n",
            " * Debug mode: off\n"
          ],
          "name": "stdout"
        },
        {
          "output_type": "stream",
          "text": [
            " * Running on http://127.0.0.1:5000/ (Press CTRL+C to quit)\n"
          ],
          "name": "stderr"
        },
        {
          "output_type": "stream",
          "text": [
            " * Running on http://7035ca45.ngrok.io\n",
            " * Traffic stats available on http://127.0.0.1:4040\n"
          ],
          "name": "stdout"
        },
        {
          "output_type": "stream",
          "text": [
            "/usr/local/lib/python3.6/dist-packages/ipykernel_launcher.py:24: DeprecationWarning: Call to deprecated `wv` (Attribute will be removed in 4.0.0, use self instead).\n"
          ],
          "name": "stderr"
        },
        {
          "output_type": "stream",
          "text": [
            "{'title': 'hello this is Avijit Chakraborty, you know who. the secretary of sxcsa. here I am to teach you machine learning.'}\n"
          ],
          "name": "stdout"
        },
        {
          "output_type": "stream",
          "text": [
            "127.0.0.1 - - [25/Mar/2020 14:09:09] \"\u001b[37mPOST / HTTP/1.1\u001b[0m\" 200 -\n",
            "127.0.0.1 - - [25/Mar/2020 14:10:31] \"\u001b[37mPOST / HTTP/1.1\u001b[0m\" 200 -\n"
          ],
          "name": "stderr"
        },
        {
          "output_type": "stream",
          "text": [
            "{'title': 'hello hiuu I am Avijit'}\n"
          ],
          "name": "stdout"
        },
        {
          "output_type": "stream",
          "text": [
            "127.0.0.1 - - [25/Mar/2020 14:15:22] \"\u001b[37mPOST / HTTP/1.1\u001b[0m\" 200 -\n"
          ],
          "name": "stderr"
        },
        {
          "output_type": "stream",
          "text": [
            "{'title': 'hello I am Avijit Chakraborty studying for the contest Nature the best place to stay in touch with you and your favourite reflection from the marked ones you have a great weekend I get a chance to be in the most important thing'}\n"
          ],
          "name": "stdout"
        },
        {
          "output_type": "stream",
          "text": [
            "127.0.0.1 - - [25/Mar/2020 14:16:34] \"\u001b[37mPOST / HTTP/1.1\u001b[0m\" 200 -\n"
          ],
          "name": "stderr"
        },
        {
          "output_type": "stream",
          "text": [
            "{'title': 'I am Avijit Chakraborty studying for the contest Nature the best place to stay in touch with you and I will be a good time to look at the end of the day of the day of the day of the day of the day of the same stage weeping willow creek road to be a good time to look at the ceiling my sis I am a very good morning I.'}\n"
          ],
          "name": "stdout"
        },
        {
          "output_type": "stream",
          "text": [
            "127.0.0.1 - - [25/Mar/2020 14:18:35] \"\u001b[37mPOST / HTTP/1.1\u001b[0m\" 200 -\n"
          ],
          "name": "stderr"
        },
        {
          "output_type": "stream",
          "text": [
            "{'title': 'I am Avijit Chakraborty studying for the contest Nature the best place to stay in touch with me on my bday and and the Rains the best place for a long time ago and I will be a good day I have already filled with 4 students and the Rains I have my first visit be be able.'}\n"
          ],
          "name": "stdout"
        },
        {
          "output_type": "stream",
          "text": [
            "127.0.0.1 - - [25/Mar/2020 14:20:09] \"\u001b[37mPOST / HTTP/1.1\u001b[0m\" 200 -\n"
          ],
          "name": "stderr"
        },
        {
          "output_type": "stream",
          "text": [
            "{'title': 'hello I am advanced analytical geometry vector analysis also available at UN and sons Private Limited reported in publishing books on mathematics in 1932 by the same authors'}\n"
          ],
          "name": "stdout"
        }
      ]
    },
    {
      "cell_type": "code",
      "metadata": {
        "id": "OviTdU_sdnKW",
        "colab_type": "code",
        "colab": {}
      },
      "source": [
        ""
      ],
      "execution_count": 0,
      "outputs": []
    }
  ]
}